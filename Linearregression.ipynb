{
  "nbformat": 4,
  "nbformat_minor": 0,
  "metadata": {
    "colab": {
      "provenance": []
    },
    "kernelspec": {
      "name": "python3",
      "display_name": "Python 3"
    },
    "language_info": {
      "name": "python"
    }
  },
  "cells": [
    {
      "cell_type": "code",
      "execution_count": null,
      "metadata": {
        "id": "IV-ZfeqTChq_"
      },
      "outputs": [],
      "source": [
        "import pandas as pd\n",
        "import numpy as np\n",
        "import matplotlib.pyplot as plt\n",
        "from sklearn.model_selection import train_test_split\n",
        "from sklearn.linear_model import LinearRegression\n",
        "from sklearn.metrics import mean_squared_error"
      ]
    },
    {
      "cell_type": "code",
      "source": [
        "data = pd.read_csv(\"https://raw.githubusercontent.com/ywchiu/riii/master/data/house-prices.csv\")\n",
        "print(data.head())"
      ],
      "metadata": {
        "colab": {
          "base_uri": "https://localhost:8080/"
        },
        "id": "RwTsxpUGC2XX",
        "outputId": "92529d46-acb0-448c-c813-7b9282589b8e"
      },
      "execution_count": null,
      "outputs": [
        {
          "output_type": "stream",
          "name": "stdout",
          "text": [
            "   Home   Price  SqFt  Bedrooms  Bathrooms  Offers Brick Neighborhood\n",
            "0     1  114300  1790         2          2       2    No         East\n",
            "1     2  114200  2030         4          2       3    No         East\n",
            "2     3  114800  1740         3          2       1    No         East\n",
            "3     4   94700  1980         3          2       3    No         East\n",
            "4     5  119800  2130         3          3       3    No         East\n"
          ]
        }
      ]
    },
    {
      "cell_type": "code",
      "source": [
        "X = data[['SqFt', 'Bedrooms', 'Bathrooms']]\n",
        "y = data['Price']\n",
        "X_train, X_test, y_train, y_test = train_test_split(X, y, test_size=0.2, random_state=42)\n",
        "model = LinearRegression()\n",
        "model.fit(X_train, y_train)\n",
        "y_pred = model.predict([[1800,3,3]])"
      ],
      "metadata": {
        "id": "xrEoLng0DAc5",
        "colab": {
          "base_uri": "https://localhost:8080/"
        },
        "outputId": "7183cc07-2815-495f-dc96-1e13d3cf0908"
      },
      "execution_count": null,
      "outputs": [
        {
          "output_type": "stream",
          "name": "stderr",
          "text": [
            "/usr/local/lib/python3.10/dist-packages/sklearn/base.py:439: UserWarning: X does not have valid feature names, but LinearRegression was fitted with feature names\n",
            "  warnings.warn(\n"
          ]
        }
      ]
    },
    {
      "cell_type": "code",
      "source": [
        "print(y_pred)"
      ],
      "metadata": {
        "colab": {
          "base_uri": "https://localhost:8080/"
        },
        "id": "YIPFIrIIC9Ky",
        "outputId": "e87c1380-6aa6-465e-b3bd-34cc26f0b984"
      },
      "execution_count": null,
      "outputs": [
        {
          "output_type": "stream",
          "name": "stdout",
          "text": [
            "[128337.87775102]\n"
          ]
        }
      ]
    }
  ]
}